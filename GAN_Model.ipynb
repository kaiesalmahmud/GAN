{
  "nbformat": 4,
  "nbformat_minor": 0,
  "metadata": {
    "colab": {
      "name": "GAN_Model.ipynb",
      "provenance": [],
      "collapsed_sections": [],
      "authorship_tag": "ABX9TyPqPBAE2dQGJQ1jgD/gs1Q2",
      "include_colab_link": true
    },
    "kernelspec": {
      "name": "python3",
      "display_name": "Python 3"
    }
  },
  "cells": [
    {
      "cell_type": "markdown",
      "metadata": {
        "id": "view-in-github",
        "colab_type": "text"
      },
      "source": [
        "<a href=\"https://colab.research.google.com/github/kaiesalmahmud/GAN/blob/main/GAN_Model.ipynb\" target=\"_parent\"><img src=\"https://colab.research.google.com/assets/colab-badge.svg\" alt=\"Open In Colab\"/></a>"
      ]
    },
    {
      "cell_type": "code",
      "metadata": {
        "id": "0UzSyvimi268"
      },
      "source": [
        "# from google.colab import drive\r\n",
        "# drive.mount('/content/drive')"
      ],
      "execution_count": null,
      "outputs": []
    },
    {
      "cell_type": "code",
      "metadata": {
        "id": "O9GnOBCPi4CT"
      },
      "source": [
        "import matplotlib.pyplot as plt\r\n",
        "import numpy as np\r\n",
        "import math\r\n",
        "\r\n",
        "import torch\r\n",
        "import torch.nn as nn\r\n",
        "import torch.nn.functional as F\r\n",
        "import torch.optim as optim\r\n",
        "\r\n",
        "import torchvision\r\n",
        "import torchvision.transforms as transforms"
      ],
      "execution_count": null,
      "outputs": []
    },
    {
      "cell_type": "code",
      "metadata": {
        "id": "dXME2Ye1hbMG"
      },
      "source": [
        "from typing import List"
      ],
      "execution_count": null,
      "outputs": []
    },
    {
      "cell_type": "code",
      "metadata": {
        "id": "S8QfyXfs36Zo"
      },
      "source": [
        "def create_binary_list_from_int(number: int) -> List[int]:\r\n",
        "    if number < 0 or type(number) is not int:\r\n",
        "        raise ValueError('Only Positive Integers are Allowed')\r\n",
        "    \r\n",
        "    return [int(x) for x in list(bin(number))[2:]]"
      ],
      "execution_count": null,
      "outputs": []
    },
    {
      "cell_type": "code",
      "metadata": {
        "colab": {
          "base_uri": "https://localhost:8080/"
        },
        "id": "baQ2X07l7yzi",
        "outputId": "e1a821e9-bad7-43ed-db1e-c0976ec5832e"
      },
      "source": [
        "create_binary_list_from_int(56)"
      ],
      "execution_count": null,
      "outputs": [
        {
          "output_type": "execute_result",
          "data": {
            "text/plain": [
              "[1, 1, 1, 0, 0, 0]"
            ]
          },
          "metadata": {
            "tags": []
          },
          "execution_count": 6
        }
      ]
    },
    {
      "cell_type": "code",
      "metadata": {
        "id": "M4HqUOq071iZ"
      },
      "source": [
        "def generate_even_data(max_int, batch_size=16):\r\n",
        "    max_length = int(math.log(max_int, 2))\r\n",
        "\r\n",
        "    sampled_integers = np.random.randint(0, int(max_int/2), batch_size)\r\n",
        "\r\n",
        "    labels = [1] * batch_size\r\n",
        "\r\n",
        "    data = [create_binary_list_from_int(int(x*2)) for x in sampled_integers]\r\n",
        "    data = [([0] * (max_length - len(x))) + x for x in data]\r\n",
        "\r\n",
        "    return labels, data"
      ],
      "execution_count": null,
      "outputs": []
    },
    {
      "cell_type": "code",
      "metadata": {
        "id": "0AfAfhFcIaWz"
      },
      "source": [
        "labels, data = generate_even_data(128)"
      ],
      "execution_count": null,
      "outputs": []
    },
    {
      "cell_type": "code",
      "metadata": {
        "id": "KDTvG4CeI4GE"
      },
      "source": [
        "class Generator(nn.Module):\r\n",
        "    \r\n",
        "    def __init__(self, input_length):\r\n",
        "        super(Generator, self).__init__()\r\n",
        "        self.dense_layer = nn.Linear(int(input_length), int(input_length))\r\n",
        "        self.activation = nn.Sigmoid()\r\n",
        "    \r\n",
        "    def forward(self, x):\r\n",
        "        return self.activation(self.dense_layer(x))"
      ],
      "execution_count": null,
      "outputs": []
    },
    {
      "cell_type": "code",
      "metadata": {
        "id": "NGbTug3YTBds"
      },
      "source": [
        "class Discriminator(nn.Module):\r\n",
        "    def __init__(self, input_length):\r\n",
        "        super(Discriminator, self).__init__()\r\n",
        "        self.dense = nn.Linear(int(input_linear), 1)\r\n",
        "        self.activation = nn.Sigmoid()\r\n",
        "\r\n",
        "    def forward(self, x):\r\n",
        "        return self.activation(self.dense(x))"
      ],
      "execution_count": null,
      "outputs": []
    },
    {
      "cell_type": "code",
      "metadata": {
        "id": "avb2iA-EX-Nt"
      },
      "source": [
        ""
      ],
      "execution_count": null,
      "outputs": []
    }
  ]
}